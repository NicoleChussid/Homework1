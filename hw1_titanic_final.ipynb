{
 "cells": [
  {
   "cell_type": "code",
   "execution_count": 89,
   "metadata": {},
   "outputs": [],
   "source": [
    "import pandas as pd\n",
    "import numpy as np\n",
    "from pandas import Series,DataFrame\n",
    "import matplotlib.pyplot as plt\n",
    "import sklearn.preprocessing as preprocessing\n",
    "from sklearn import linear_model\n",
    "import seaborn as sns\n"
   ]
  },
  {
   "cell_type": "code",
   "execution_count": 90,
   "metadata": {},
   "outputs": [
    {
     "name": "stdout",
     "output_type": "stream",
     "text": [
      "<class 'pandas.core.frame.DataFrame'>\n",
      "RangeIndex: 891 entries, 0 to 890\n",
      "Data columns (total 12 columns):\n",
      "PassengerId    891 non-null int64\n",
      "Survived       891 non-null int64\n",
      "Pclass         891 non-null int64\n",
      "Name           891 non-null object\n",
      "Sex            891 non-null object\n",
      "Age            714 non-null float64\n",
      "SibSp          891 non-null int64\n",
      "Parch          891 non-null int64\n",
      "Ticket         891 non-null object\n",
      "Fare           891 non-null float64\n",
      "Cabin          204 non-null object\n",
      "Embarked       889 non-null object\n",
      "dtypes: float64(2), int64(5), object(5)\n",
      "memory usage: 83.6+ KB\n"
     ]
    }
   ],
   "source": [
    "data_train=pd.read_csv(\"Train.csv\")\n",
    "data_test=pd.read_csv(\"Test.csv\")\n",
    "# briefly summarize training dataset \n",
    "data_train.info()"
   ]
  },
  {
   "cell_type": "code",
   "execution_count": 91,
   "metadata": {},
   "outputs": [
    {
     "data": {
      "text/html": [
       "<div>\n",
       "<style scoped>\n",
       "    .dataframe tbody tr th:only-of-type {\n",
       "        vertical-align: middle;\n",
       "    }\n",
       "\n",
       "    .dataframe tbody tr th {\n",
       "        vertical-align: top;\n",
       "    }\n",
       "\n",
       "    .dataframe thead th {\n",
       "        text-align: right;\n",
       "    }\n",
       "</style>\n",
       "<table border=\"1\" class=\"dataframe\">\n",
       "  <thead>\n",
       "    <tr style=\"text-align: right;\">\n",
       "      <th></th>\n",
       "      <th>PassengerId</th>\n",
       "      <th>Survived</th>\n",
       "      <th>Pclass</th>\n",
       "      <th>Name</th>\n",
       "      <th>Sex</th>\n",
       "      <th>Age</th>\n",
       "      <th>SibSp</th>\n",
       "      <th>Parch</th>\n",
       "      <th>Ticket</th>\n",
       "      <th>Fare</th>\n",
       "      <th>Cabin</th>\n",
       "      <th>Embarked</th>\n",
       "    </tr>\n",
       "  </thead>\n",
       "  <tbody>\n",
       "    <tr>\n",
       "      <th>0</th>\n",
       "      <td>1</td>\n",
       "      <td>0</td>\n",
       "      <td>3</td>\n",
       "      <td>Braund, Mr. Owen Harris</td>\n",
       "      <td>male</td>\n",
       "      <td>22.0</td>\n",
       "      <td>1</td>\n",
       "      <td>0</td>\n",
       "      <td>A/5 21171</td>\n",
       "      <td>7.2500</td>\n",
       "      <td>NaN</td>\n",
       "      <td>S</td>\n",
       "    </tr>\n",
       "    <tr>\n",
       "      <th>1</th>\n",
       "      <td>2</td>\n",
       "      <td>1</td>\n",
       "      <td>1</td>\n",
       "      <td>Cumings, Mrs. John Bradley (Florence Briggs Th...</td>\n",
       "      <td>female</td>\n",
       "      <td>38.0</td>\n",
       "      <td>1</td>\n",
       "      <td>0</td>\n",
       "      <td>PC 17599</td>\n",
       "      <td>71.2833</td>\n",
       "      <td>C85</td>\n",
       "      <td>C</td>\n",
       "    </tr>\n",
       "    <tr>\n",
       "      <th>2</th>\n",
       "      <td>3</td>\n",
       "      <td>1</td>\n",
       "      <td>3</td>\n",
       "      <td>Heikkinen, Miss. Laina</td>\n",
       "      <td>female</td>\n",
       "      <td>26.0</td>\n",
       "      <td>0</td>\n",
       "      <td>0</td>\n",
       "      <td>STON/O2. 3101282</td>\n",
       "      <td>7.9250</td>\n",
       "      <td>NaN</td>\n",
       "      <td>S</td>\n",
       "    </tr>\n",
       "    <tr>\n",
       "      <th>3</th>\n",
       "      <td>4</td>\n",
       "      <td>1</td>\n",
       "      <td>1</td>\n",
       "      <td>Futrelle, Mrs. Jacques Heath (Lily May Peel)</td>\n",
       "      <td>female</td>\n",
       "      <td>35.0</td>\n",
       "      <td>1</td>\n",
       "      <td>0</td>\n",
       "      <td>113803</td>\n",
       "      <td>53.1000</td>\n",
       "      <td>C123</td>\n",
       "      <td>S</td>\n",
       "    </tr>\n",
       "    <tr>\n",
       "      <th>4</th>\n",
       "      <td>5</td>\n",
       "      <td>0</td>\n",
       "      <td>3</td>\n",
       "      <td>Allen, Mr. William Henry</td>\n",
       "      <td>male</td>\n",
       "      <td>35.0</td>\n",
       "      <td>0</td>\n",
       "      <td>0</td>\n",
       "      <td>373450</td>\n",
       "      <td>8.0500</td>\n",
       "      <td>NaN</td>\n",
       "      <td>S</td>\n",
       "    </tr>\n",
       "  </tbody>\n",
       "</table>\n",
       "</div>"
      ],
      "text/plain": [
       "   PassengerId  Survived  Pclass  \\\n",
       "0            1         0       3   \n",
       "1            2         1       1   \n",
       "2            3         1       3   \n",
       "3            4         1       1   \n",
       "4            5         0       3   \n",
       "\n",
       "                                                Name     Sex   Age  SibSp  \\\n",
       "0                            Braund, Mr. Owen Harris    male  22.0      1   \n",
       "1  Cumings, Mrs. John Bradley (Florence Briggs Th...  female  38.0      1   \n",
       "2                             Heikkinen, Miss. Laina  female  26.0      0   \n",
       "3       Futrelle, Mrs. Jacques Heath (Lily May Peel)  female  35.0      1   \n",
       "4                           Allen, Mr. William Henry    male  35.0      0   \n",
       "\n",
       "   Parch            Ticket     Fare Cabin Embarked  \n",
       "0      0         A/5 21171   7.2500   NaN        S  \n",
       "1      0          PC 17599  71.2833   C85        C  \n",
       "2      0  STON/O2. 3101282   7.9250   NaN        S  \n",
       "3      0            113803  53.1000  C123        S  \n",
       "4      0            373450   8.0500   NaN        S  "
      ]
     },
     "execution_count": 91,
     "metadata": {},
     "output_type": "execute_result"
    }
   ],
   "source": [
    "data_train.head()"
   ]
  },
  {
   "cell_type": "code",
   "execution_count": 92,
   "metadata": {},
   "outputs": [
    {
     "data": {
      "text/plain": [
       "Text(0, 0.5, '#')"
      ]
     },
     "execution_count": 92,
     "metadata": {},
     "output_type": "execute_result"
    },
    {
     "data": {
      "image/png": "[encoded data removed]",
      "text/plain": [
       "<Figure size 432x288 with 1 Axes>"
      ]
     },
     "metadata": {
      "needs_background": "light"
     },
     "output_type": "display_data"
    }
   ],
   "source": [
    "# analyze the dataset and visualize all the features to see which ones will be used for logistic regression \n",
    "\n",
    "# overall survived vs. died \n",
    "fig=plt.figure()\n",
    "# plt.subplot2grid((2,3),(0,0))\n",
    "data_train.Survived.value_counts().plot(kind=\"bar\")\n",
    "plt.title(u\"Survived\")\n",
    "plt.ylabel(u\"#\")"
   ]
  },
  {
   "cell_type": "code",
   "execution_count": 93,
   "metadata": {},
   "outputs": [
    {
     "data": {
      "text/plain": [
       "Text(0, 0.5, '#')"
      ]
     },
     "execution_count": 93,
     "metadata": {},
     "output_type": "execute_result"
    },
    {
     "data": {
      "image/png": "[encoded data removed]",
      "text/plain": [
       "<Figure size 432x288 with 1 Axes>"
      ]
     },
     "metadata": {
      "needs_background": "light"
     },
     "output_type": "display_data"
    }
   ],
   "source": [
    "# data visualization of class distribution \n",
    "data_train.Pclass.value_counts().plot(kind=\"bar\")\n",
    "plt.title(u\"class distribution\")\n",
    "plt.ylabel(u\"#\")"
   ]
  },
  {
   "cell_type": "code",
   "execution_count": 94,
   "metadata": {},
   "outputs": [
    {
     "data": {
      "text/plain": [
       "Text(0.5, 0, 'age')"
      ]
     },
     "execution_count": 94,
     "metadata": {},
     "output_type": "execute_result"
    },
    {
     "data": {
      "image/png": "[encoded data removed]",
      "text/plain": [
       "<Figure size 432x288 with 1 Axes>"
      ]
     },
     "metadata": {
      "needs_background": "light"
     },
     "output_type": "display_data"
    }
   ],
   "source": [
    "# data visualization of the age distribution \n",
    "survived = data_train[data_train['Survived'] == 1]\n",
    "survived.Age.value_counts().plot(kind = 'bar')\n",
    "plt.title(u\"age distribution\")\n",
    "plt.ylabel(u\"#\")\n",
    "plt.xlabel(u\"age\")\n"
   ]
  },
  {
   "cell_type": "code",
   "execution_count": 95,
   "metadata": {},
   "outputs": [
    {
     "data": {
      "text/plain": [
       "<matplotlib.legend.Legend at 0x1a283e46a0>"
      ]
     },
     "execution_count": 95,
     "metadata": {},
     "output_type": "execute_result"
    },
    {
     "data": {
      "image/png": "[encoded data removed]",
      "text/plain": [
       "<Figure size 432x288 with 1 Axes>"
      ]
     },
     "metadata": {
      "needs_background": "light"
     },
     "output_type": "display_data"
    }
   ],
   "source": [
    "# age distribution among each age group\n",
    "data_train.Age[data_train.Pclass==1].plot(kind=\"kde\")\n",
    "data_train.Age[data_train.Pclass==2].plot(kind=\"kde\")\n",
    "data_train.Age[data_train.Pclass==3].plot(kind=\"kde\")\n",
    "plt.xlabel(u\"age\")\n",
    "plt.ylabel(u\"density\")\n",
    "plt.title(u\"age distribution of each age group\")\n",
    "plt.legend((u\"1st\",u\"2nd\",u\"3rd\"),loc=\"best\")"
   ]
  },
  {
   "cell_type": "code",
   "execution_count": 96,
   "metadata": {},
   "outputs": [
    {
     "data": {
      "image/png": "[encoded data removed]",
      "text/plain": [
       "<Figure size 432x288 with 1 Axes>"
      ]
     },
     "metadata": {
      "needs_background": "light"
     },
     "output_type": "display_data"
    }
   ],
   "source": [
    "# visualization of the embarkment from different location \n",
    "data_train.Embarked.value_counts().plot(kind=\"bar\")\n",
    "plt.title(u\"embarked from each port\")\n",
    "plt.ylabel(u\"#\")\n",
    "plt.show()"
   ]
  },
  {
   "cell_type": "code",
   "execution_count": 113,
   "metadata": {},
   "outputs": [
    {
     "data": {
      "text/plain": [
       "<Figure size 432x288 with 0 Axes>"
      ]
     },
     "metadata": {},
     "output_type": "display_data"
    },
    {
     "data": {
      "image/png": "[encoded data removed]",
      "text/plain": [
       "<Figure size 432x288 with 1 Axes>"
      ]
     },
     "metadata": {
      "needs_background": "light"
     },
     "output_type": "display_data"
    }
   ],
   "source": [
    "# the survival situation based on the embarkment \n",
    "fig=plt.figure()\n",
    "\n",
    "survived = data_train.Embarked[data_train.Survived == 1].value_counts()\n",
    "died = data_train.Embarked[data_train.Survived == 0].value_counts()\n",
    "df=pd.DataFrame({u'survived':survived,u'died':died})\n",
    "df.plot(kind=\"bar\",stacked=True)\n",
    "plt.title(u'survived based on each embarkment')\n",
    "plt.xlabel(u'embarkment')\n",
    "plt.ylabel(u'#')\n",
    "plt.show()"
   ]
  },
  {
   "cell_type": "code",
   "execution_count": 97,
   "metadata": {},
   "outputs": [
    {
     "data": {
      "image/png": "[encoded data removed]",
      "text/plain": [
       "<Figure size 432x288 with 1 Axes>"
      ]
     },
     "metadata": {
      "needs_background": "light"
     },
     "output_type": "display_data"
    }
   ],
   "source": [
    "# the survival rate from each class\n",
    "survived_0 = data_train.Pclass[data_train.Survived == 0].value_counts()\n",
    "survived_1 = data_train.Pclass[data_train.Survived == 1].value_counts()\n",
    "df=pd.DataFrame({u'survived':survived_1, u'died':survived_0})\n",
    "df.plot(kind='bar', stacked=True)\n",
    "plt.title(u\"survived from each class\")\n",
    "plt.xlabel(u\"Pclass\") \n",
    "plt.ylabel(u\"#\") \n",
    "plt.show()\n"
   ]
  },
  {
   "cell_type": "code",
   "execution_count": 98,
   "metadata": {},
   "outputs": [
    {
     "data": {
      "text/plain": [
       "<Figure size 432x288 with 0 Axes>"
      ]
     },
     "metadata": {},
     "output_type": "display_data"
    },
    {
     "data": {
      "image/png": "[encoded data removed]",
      "text/plain": [
       "<Figure size 432x288 with 1 Axes>"
      ]
     },
     "metadata": {
      "needs_background": "light"
     },
     "output_type": "display_data"
    }
   ],
   "source": [
    "#gender and survival \n",
    "fig=plt.figure()\n",
    "\n",
    "survived_male=data_train.Survived[data_train.Sex == 'male'].value_counts()\n",
    "survived_female=data_train.Survived[data_train.Sex == 'female'].value_counts()\n",
    "df=pd.DataFrame({u'male':survived_male,u'female':survived_female})\n",
    "df.plot(kind=\"bar\",stacked=True)\n",
    "plt.title(u'survived based on gender')\n",
    "plt.xlabel(u'gender')\n",
    "plt.ylabel(u'#')\n",
    "plt.show()"
   ]
  },
  {
   "cell_type": "code",
   "execution_count": 101,
   "metadata": {},
   "outputs": [
    {
     "data": {
      "text/plain": [
       "<matplotlib.legend.Legend at 0x1a286de860>"
      ]
     },
     "execution_count": 101,
     "metadata": {},
     "output_type": "execute_result"
    },
    {
     "data": {
      "image/png": "[encoded data removed]",
      "text/plain": [
       "<Figure size 432x288 with 5 Axes>"
      ]
     },
     "metadata": {
      "needs_background": "light"
     },
     "output_type": "display_data"
    }
   ],
   "source": [
    "# the survival rate of male and female in differnet classes\n",
    "fig=plt.figure()\n",
    "plt.title(u'the survival rate in different classes based on gender')\n",
    "fig1=fig.add_subplot(141)\n",
    "data_train.Survived[data_train.Sex == 'female'][data_train.Pclass == 1].value_counts().plot(kind=\"bar\",label=\"female1\")\n",
    "fig1.set_xticklabels([u'survive',u'die'],rotation=0)\n",
    "fig1.legend([u'female1'],loc='best')\n",
    "          \n",
    "fig2=fig.add_subplot(142,sharey=fig1)\n",
    "data_train.Survived[data_train.Sex=='female'][data_train.Pclass!=1].value_counts().plot(kind=\"bar\",label=\"female2&3\")\n",
    "fig2.set_xticklabels([u'survive',u'die'],rotation=0)\n",
    "fig2.legend([u'female2&3'],loc='best')\n",
    "\n",
    "fig3=fig.add_subplot(143,sharey=fig1)\n",
    "data_train.Survived[data_train.Sex=='male'][data_train.Pclass==1].value_counts().plot(kind=\"bar\",label=\"male1\")\n",
    "fig3.set_xticklabels([u'survive',u'die'],rotation=0)\n",
    "fig3.legend([u'male1'],loc='best')\n",
    "\n",
    "fig4=fig.add_subplot(144,sharey=fig1)\n",
    "data_train.Survived[data_train.Sex=='male'][data_train.Pclass!=1].value_counts().plot(kind=\"bar\",label=\"male2&3\")\n",
    "fig4.set_xticklabels([u'survive',u'die'],rotation=0)\n",
    "fig4.legend([u'male2&3'],loc='best')\n",
    "                  "
   ]
  },
  {
   "cell_type": "code",
   "execution_count": 102,
   "metadata": {},
   "outputs": [
    {
     "data": {
      "text/plain": [
       "<matplotlib.axes._subplots.AxesSubplot at 0x1a28c41f28>"
      ]
     },
     "execution_count": 102,
     "metadata": {},
     "output_type": "execute_result"
    },
    {
     "data": {
      "text/plain": [
       "<Figure size 432x288 with 0 Axes>"
      ]
     },
     "metadata": {},
     "output_type": "display_data"
    },
    {
     "data": {
      "image/png": "[encoded data removed]",
      "text/plain": [
       "<Figure size 432x288 with 1 Axes>"
      ]
     },
     "metadata": {
      "needs_background": "light"
     },
     "output_type": "display_data"
    }
   ],
   "source": [
    "# the relationship between the port and the survival rate \n",
    "fig=plt.figure()\n",
    "survived=data_train.Embarked[data_train.Survived==1].value_counts()\n",
    "died=data_train.Embarked[data_train.Survived==0].value_counts()\n",
    "df=pd.DataFrame({u'survived':survived,u'died':died})\n",
    "df.plot(kind=\"bar\",stacked=\"true\")"
   ]
  },
  {
   "cell_type": "code",
   "execution_count": 103,
   "metadata": {},
   "outputs": [
    {
     "name": "stdout",
     "output_type": "stream",
     "text": [
      "                PassengerId\n",
      "SibSp Survived             \n",
      "0     0                 398\n",
      "      1                 210\n",
      "1     0                  97\n",
      "      1                 112\n",
      "2     0                  15\n",
      "      1                  13\n",
      "3     0                  12\n",
      "      1                   4\n",
      "4     0                  15\n",
      "      1                   3\n",
      "5     0                   5\n",
      "8     0                   7\n"
     ]
    }
   ],
   "source": [
    "# the relationship between the number of siblings and survival. \n",
    "group=data_train.groupby(['SibSp','Survived'])\n",
    "df=pd.DataFrame(group.count()['PassengerId'])\n",
    "print (df)"
   ]
  },
  {
   "cell_type": "code",
   "execution_count": 111,
   "metadata": {},
   "outputs": [
    {
     "name": "stdout",
     "output_type": "stream",
     "text": [
      "                PassengerId\n",
      "Parch Survived             \n",
      "0     0                 445\n",
      "      1                 233\n",
      "1     0                  53\n",
      "      1                  65\n",
      "2     0                  40\n",
      "      1                  40\n",
      "3     0                   2\n",
      "      1                   3\n",
      "4     0                   4\n",
      "5     0                   4\n",
      "      1                   1\n",
      "6     0                   1\n"
     ]
    }
   ],
   "source": [
    "# the relationship between the number of parents, and survival. \n",
    "group=data_train.groupby(['Parch','Survived'])\n",
    "df=pd.DataFrame(group.count()['PassengerId'])\n",
    "print (df)"
   ]
  },
  {
   "cell_type": "code",
   "execution_count": 25,
   "metadata": {},
   "outputs": [
    {
     "data": {
      "text/plain": [
       "B96 B98            4\n",
       "G6                 4\n",
       "C23 C25 C27        4\n",
       "C22 C26            3\n",
       "F33                3\n",
       "F2                 3\n",
       "D                  3\n",
       "E101               3\n",
       "C126               2\n",
       "B58 B60            2\n",
       "D17                2\n",
       "C125               2\n",
       "D36                2\n",
       "C83                2\n",
       "C65                2\n",
       "C123               2\n",
       "D33                2\n",
       "B77                2\n",
       "E121               2\n",
       "D26                2\n",
       "B20                2\n",
       "B28                2\n",
       "D35                2\n",
       "C52                2\n",
       "E8                 2\n",
       "D20                2\n",
       "F4                 2\n",
       "E33                2\n",
       "B57 B59 B63 B66    2\n",
       "C124               2\n",
       "                  ..\n",
       "D9                 1\n",
       "E17                1\n",
       "B79                1\n",
       "C87                1\n",
       "C45                1\n",
       "C99                1\n",
       "D47                1\n",
       "E12                1\n",
       "E40                1\n",
       "C54                1\n",
       "A34                1\n",
       "E34                1\n",
       "D46                1\n",
       "C49                1\n",
       "C111               1\n",
       "A14                1\n",
       "B86                1\n",
       "D50                1\n",
       "B37                1\n",
       "B80                1\n",
       "A23                1\n",
       "D10 D12            1\n",
       "D37                1\n",
       "C91                1\n",
       "B19                1\n",
       "E58                1\n",
       "C103               1\n",
       "B82 B84            1\n",
       "D21                1\n",
       "C110               1\n",
       "Name: Cabin, Length: 147, dtype: int64"
      ]
     },
     "execution_count": 25,
     "metadata": {},
     "output_type": "execute_result"
    }
   ],
   "source": [
    "#the relationship between the cabin and the survival rate\n",
    "data_train.Cabin.value_counts()"
   ]
  },
  {
   "cell_type": "code",
   "execution_count": 26,
   "metadata": {},
   "outputs": [
    {
     "data": {
      "text/plain": [
       "<Figure size 432x288 with 0 Axes>"
      ]
     },
     "metadata": {},
     "output_type": "display_data"
    },
    {
     "data": {
      "image/png": "[encoded data removed]",
      "text/plain": [
       "<Figure size 432x288 with 1 Axes>"
      ]
     },
     "metadata": {
      "needs_background": "light"
     },
     "output_type": "display_data"
    }
   ],
   "source": [
    "# data visualizatin of the survival based on the cabin \n",
    "fig=plt.figure()\n",
    "survived_cabin=data_train.Survived[pd.notnull(data_train.Cabin)].value_counts()\n",
    "survived_nocabin=data_train.Survived[pd.isnull(data_train.Cabin)].value_counts()\n",
    "df=pd.DataFrame({u'have cabin':survived_cabin,u'no cabin':survived_nocabin}).transpose()\n",
    "df.plot(kind=\"bar\",stacked=True)\n",
    "plt.title(u'survival based on cabin')\n",
    "plt.xlabel(u'have/no cabin')\n",
    "plt.ylabel(u'#')\n",
    "plt.show()"
   ]
  },
  {
   "cell_type": "markdown",
   "metadata": {},
   "source": [
    "# Reasoning for picked features "
   ]
  },
  {
   "cell_type": "markdown",
   "metadata": {},
   "source": [
    "I picked Pclass as a feature because from the graph, we can tell that people from the first class are more likely to survive whereas the death rate on the 3rd class is really high. I also picked sex as a feature because the graph clearly says that male has a higher death rate and female has a higher survival rate. I also picked age as a feature because it’s obvious that younger people were more likely to survive. I picked SibSp because people who didn’t spouses or sibling were more likely die. And I picked parents as a feature as well because from the analysis, people who didn’t have parents with them were more like to die. I picked Embarked from the graph we can tell that people who embarked from S were way more likely to survive. I chose embarked as a feature because S had the most people embarked from and had the highest survival rate among all, which might also be insightful. I didn’t drop Cabin because from the graph we can that people who didn’t have a cabin on record were more likely to die. Even though we didn’t have that many cabin data available, I believe it can still provide useful information. \n",
    "\n",
    "However, I didn’t pick name as a feature, because everyone has different names and it’s hard to see a trend from such a broad of names. Also I didn’t pick ticket because the data input in that column is very diverse and I couldn’t tell a pattern. "
   ]
  },
  {
   "cell_type": "code",
   "execution_count": 108,
   "metadata": {},
   "outputs": [
    {
     "name": "stderr",
     "output_type": "stream",
     "text": [
      "/Users/ashleyshen/anaconda3/lib/python3.7/site-packages/sklearn/linear_model/logistic.py:432: FutureWarning: Default solver will be changed to 'lbfgs' in 0.22. Specify a solver to silence this warning.\n",
      "  FutureWarning)\n",
      "/Users/ashleyshen/anaconda3/lib/python3.7/site-packages/sklearn/utils/validation.py:724: DataConversionWarning: A column-vector y was passed when a 1d array was expected. Please change the shape of y to (n_samples, ), for example using ravel().\n",
      "  y = column_or_1d(y, warn=True)\n"
     ]
    }
   ],
   "source": [
    "data_train = pd.read_csv(\"Train.csv\")\n",
    "data_test = pd.read_csv(\"Test.csv\")\n",
    "\n",
    "def format_data(df, train_=True):\n",
    "    #Feature Engineering\n",
    "    df[\"Age\"] = df[\"Age\"].fillna(df[\"Age\"].mean())\n",
    "    df[\"Fare\"] = df[\"Fare\"].fillna(df[\"Fare\"].mean())\n",
    "    df[\"Cabin_\"] = df[\"Cabin\"].notnull()\n",
    "    df = df.drop(columns=[\"Cabin\", \"Ticket\", \"Name\"])\n",
    "\n",
    "    #Normalizing numerical features\n",
    "    scaler=preprocessing.StandardScaler()\n",
    "    df['age_norm'] = scaler.fit_transform(df[['Age']], scaler.fit(df[['Age']]))\n",
    "    df['fare_norm'] = scaler.fit_transform(df[['Fare']], scaler.fit(df[['Fare']]))\n",
    "\n",
    "    #Getting the dummy dfs\n",
    "    sex = pd.get_dummies(df[\"Sex\"])\n",
    "    embarked = pd.get_dummies(df[\"Embarked\"])\n",
    "    cabin = pd.get_dummies(df[\"Cabin_\"])\n",
    "    pclass = pd.get_dummies(df[\"Pclass\"])\n",
    "   \n",
    "    #Concatting the dummy dfs together\n",
    "    if train_ == True:\n",
    "        df =df[[\"Survived\", \"age_norm\", \"SibSp\", \"Parch\", \"fare_norm\"]]\n",
    "        df = pd.concat([df, sex, embarked, cabin, pclass],axis=1)\n",
    "    else:\n",
    "        df = df[[\"age_norm\", \"SibSp\", \"Parch\", \"fare_norm\"]]\n",
    "        df = pd.concat([df, sex, embarked, cabin, pclass],axis=1)\n",
    "        df\n",
    "    return df\n",
    "\n",
    "#Train logistic model\n",
    "train = format_data(data_train, train_=True)\n",
    "train\n",
    "x = train.drop(columns=[\"Survived\"])\n",
    "y = train[[\"Survived\"]]\n",
    "clf = linear_model.LogisticRegression().fit(x, y)\n",
    "\n",
    "#Formatting test data \n",
    "test = format_data(data_test, train_=False)\n",
    "predictions = clf.predict(test)\n",
    "test = pd.read_csv(\"Test.csv\")\n",
    "test[\"Survived\"] = predictions\n",
    "test[[\"PassengerId\", \"Survived\"]].to_csv(\"result.csv\", index=False)"
   ]
  },
  {
   "cell_type": "code",
   "execution_count": null,
   "metadata": {},
   "outputs": [],
   "source": [
    "correction rate is 0.75837"
   ]
  }
 ],
 "metadata": {
  "kernelspec": {
   "display_name": "Python 3",
   "language": "python",
   "name": "python3"
  },
  "language_info": {
   "codemirror_mode": {
    "name": "ipython",
    "version": 3
   },
   "file_extension": ".py",
   "mimetype": "text/x-python",
   "name": "python",
   "nbconvert_exporter": "python",
   "pygments_lexer": "ipython3",
   "version": "3.7.3"
  }
 },
 "nbformat": 4,
 "nbformat_minor": 2
}
